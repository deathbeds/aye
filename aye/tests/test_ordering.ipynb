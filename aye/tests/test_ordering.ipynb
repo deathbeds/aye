{
 "cells": [
  {
   "cell_type": "code",
   "execution_count": 1,
   "metadata": {},
   "outputs": [],
   "source": [
    "\"\"\"setup\"\"\"\n",
    "try:\n",
    "    from ..__init__ import Import, Notebook, from_file, reload, update_hooks\n",
    "except:\n",
    "    from aye import Import, Notebook, from_file, reload, update_hooks\n",
    "import sys"
   ]
  },
  {
   "cell_type": "code",
   "execution_count": 2,
   "metadata": {},
   "outputs": [],
   "source": [
    "\"\"\"test_resting_state\"\"\"\n",
    "try:\n",
    "    try:\n",
    "        from . import test_basics\n",
    "    except:\n",
    "        import test_basics\n",
    "    # Throw an exception til here\n",
    "    assert False, \"test_basics is in the sys.path as <{}>\".format(test_basics.__file__)\n",
    "except ModuleNotFoundError: \n",
    "    assert 'test_basics' not in globals()"
   ]
  },
  {
   "cell_type": "code",
   "execution_count": 6,
   "metadata": {},
   "outputs": [],
   "source": [
    "\"\"\"test_import_context_manager\"\"\"\n",
    "with Import(Notebook):\n",
    "    try:\n",
    "        from . import test_basics\n",
    "    except:\n",
    "        import test_basics\n",
    "    finally:\n",
    "        assert test_basics\n",
    "        \n",
    "try:\n",
    "    try:\n",
    "        from . import test_from_file\n",
    "    except:\n",
    "        import test_from_file\n",
    "#     assert False, \"test_from_file is in the sys.path as <{}>\".format(test_from_file.__file__)\n",
    "except ModuleNotFoundError: \n",
    "    assert 'test_from_file' not in globals()\n",
    "\n",
    "update_hooks(Notebook)\n",
    "\n",
    "try:\n",
    "    from . import test_from_file\n",
    "except:\n",
    "    import test_from_file\n",
    "    \n",
    "assert test_from_file\n",
    "    \n",
    "update_hooks()"
   ]
  },
  {
   "cell_type": "code",
   "execution_count": 5,
   "metadata": {},
   "outputs": [],
   "source": []
  },
  {
   "cell_type": "code",
   "execution_count": null,
   "metadata": {},
   "outputs": [],
   "source": []
  }
 ],
 "metadata": {
  "kernelspec": {
   "display_name": "p6",
   "language": "python",
   "name": "other-env"
  },
  "language_info": {
   "codemirror_mode": {
    "name": "ipython",
    "version": 3
   },
   "file_extension": ".py",
   "mimetype": "text/x-python",
   "name": "python",
   "nbconvert_exporter": "python",
   "pygments_lexer": "ipython3",
   "version": "3.6.3"
  }
 },
 "nbformat": 4,
 "nbformat_minor": 2
}
