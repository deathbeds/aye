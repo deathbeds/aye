{
 "cells": [
  {
   "cell_type": "markdown",
   "metadata": {},
   "source": [
    "`eye` imports notebooks as Interactive Modules.  With `eye` imports:\n",
    "\n",
    "* Notebooks can be used as python source.\n",
    "* The native `importlib.reload` object reloads `eye` modules.\n",
    "* `eye` provides line level debugging to the source notebook.\n",
    "* `paramterize` notebooks to makes them `callable`."
   ]
  },
  {
   "cell_type": "markdown",
   "metadata": {},
   "source": [
    "## `eye.tests` may be imported"
   ]
  },
  {
   "cell_type": "code",
   "execution_count": 14,
   "metadata": {},
   "outputs": [],
   "source": [
    "    try:                        import eye.tests.test_basics\n",
    "    except ModuleNotFoundError: import eye.activate\n",
    "    finally:                    import eye.tests.test_basics\n",
    "    assert eye.tests.test_basics.__complete__ is True"
   ]
  },
  {
   "cell_type": "code",
   "execution_count": 10,
   "metadata": {},
   "outputs": [
    {
     "name": "stdout",
     "output_type": "stream",
     "text": [
      "\u001b[1m============================= test session starts ==============================\u001b[0m\r\n",
      "platform darwin -- Python 3.6.3, pytest-3.2.1, py-1.4.34, pluggy-0.4.0\r\n",
      "rootdir: /Users/tonyfast/eye, inifile:\r\n",
      "plugins: ipynb-1.1.0, hypothesis-3.44.6\r\n",
      "\u001b[1m\r",
      "collecting 0 items                                                              \u001b[0m\u001b[1m\r",
      "collecting 5 items                                                              \u001b[0m\u001b[1m\r",
      "collecting 8 items                                                              \u001b[0m\u001b[1m\r",
      "collected 8 items                                                               \u001b[0m\r\n",
      "\r\n",
      "eye/tests/test_basics.ipynb .....\r\n",
      "eye/tests/test_from_file.ipynb ...\r\n",
      "\r\n",
      "\u001b[32m\u001b[1m=========================== 8 passed in 4.32 seconds ===========================\u001b[0m\r\n",
      "[NbConvertApp] Converting notebook readme.ipynb to markdown\r\n",
      "[NbConvertApp] Writing 787 bytes to readme.md\r\n"
     ]
    }
   ],
   "source": [
    "if __name__ == '__main__':\n",
    "#     !python setup.py develop\n",
    "    !source activate p6 && py.test\n",
    "    !jupyter nbconvert --to markdown --TemplateExporter.exclude_output=True readme.ipynb"
   ]
  },
  {
   "cell_type": "code",
   "execution_count": null,
   "metadata": {},
   "outputs": [],
   "source": []
  }
 ],
 "metadata": {
  "kernelspec": {
   "display_name": "p6",
   "language": "python",
   "name": "other-env"
  },
  "language_info": {
   "codemirror_mode": {
    "name": "ipython",
    "version": 3
   },
   "file_extension": ".py",
   "mimetype": "text/x-python",
   "name": "python",
   "nbconvert_exporter": "python",
   "pygments_lexer": "ipython3",
   "version": "3.6.3"
  }
 },
 "nbformat": 4,
 "nbformat_minor": 2
}
