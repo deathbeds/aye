{
 "cells": [
  {
   "cell_type": "code",
   "execution_count": 1,
   "metadata": {},
   "outputs": [],
   "source": [
    "\"\"\"setup\"\"\"\n",
    "try:\n",
    "    from ..__init__ import activate, from_file\n",
    "except:\n",
    "    import aye.activate\n",
    "    from aye import from_file\n",
    "\n",
    "test_file = 'test_basics.ipynb'\n",
    "\n",
    "from nbformat import v4\n",
    "module = from_file(test_file)"
   ]
  },
  {
   "cell_type": "code",
   "execution_count": 2,
   "metadata": {},
   "outputs": [],
   "source": [
    "\"\"\"test_is_module\"\"\"\n",
    "assert isinstance(module, __import__('types').ModuleType)"
   ]
  },
  {
   "cell_type": "code",
   "execution_count": 5,
   "metadata": {},
   "outputs": [],
   "source": [
    "\"\"\"test_compare_module_and_file\"\"\"\n",
    "from pathlib import Path\n",
    "try:\n",
    "    from . import test_basics\n",
    "except:\n",
    "    import test_basics\n",
    "assert dir(module) == dir(test_basics)\n",
    "# assert all(getattr(module, str) for str in dir(module) if str[0] is not '_')\n",
    "assert module != test_basics"
   ]
  }
 ],
 "metadata": {
  "kernelspec": {
   "display_name": "p6",
   "language": "python",
   "name": "other-env"
  },
  "language_info": {
   "codemirror_mode": {
    "name": "ipython",
    "version": 3
   },
   "file_extension": ".py",
   "mimetype": "text/x-python",
   "name": "python",
   "nbconvert_exporter": "python",
   "pygments_lexer": "ipython3",
   "version": "3.6.3"
  }
 },
 "nbformat": 4,
 "nbformat_minor": 2
}
