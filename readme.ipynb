{
 "cells": [
  {
   "cell_type": "markdown",
   "metadata": {},
   "source": [
    "`eye` imports notebooks as Interactive Modules.  With `eye` imports:\n",
    "\n",
    "* Notebooks can be used as python source.\n",
    "* The native `importlib.reload` object reloads `eye` modules.\n",
    "* `eye` provides line level debugging to the source notebook.\n",
    "* `paramterize` notebooks to makes them `callable`."
   ]
  },
  {
   "cell_type": "code",
   "execution_count": 1,
   "metadata": {},
   "outputs": [],
   "source": [
    "    import eye.activate\n",
    "    import readme"
   ]
  },
  {
   "cell_type": "markdown",
   "metadata": {},
   "source": [
    "Imported notebooks are reloadable."
   ]
  },
  {
   "cell_type": "code",
   "execution_count": 2,
   "metadata": {},
   "outputs": [],
   "source": [
    "    from importlib import reload\n",
    "    assert reload(readme) is readme"
   ]
  },
  {
   "cell_type": "markdown",
   "metadata": {},
   "source": [
    "The [`eye/tests`](eye/tests/) explains more about the basic and advanced features of `eye` \n",
    "\n",
    "> `eye.tests` are importable."
   ]
  },
  {
   "cell_type": "code",
   "execution_count": 3,
   "metadata": {},
   "outputs": [],
   "source": [
    "    import eye.tests.test_basics\n",
    "    assert eye.tests.test_basics.__complete__ is True"
   ]
  },
  {
   "cell_type": "markdown",
   "metadata": {},
   "source": [
    "Partially loaded notebooks contain an `Exception` on the __complete__ attribute."
   ]
  },
  {
   "cell_type": "code",
   "execution_count": 4,
   "metadata": {},
   "outputs": [],
   "source": [
    "    import eye.tests.debug\n",
    "    assert type(eye.tests.debug.__complete__) is AssertionError"
   ]
  },
  {
   "cell_type": "code",
   "execution_count": null,
   "metadata": {},
   "outputs": [],
   "source": [
    "if __name__ == '__main__':\n",
    "#     !python setup.py develop\n",
    "    !source activate p6 && py.test\n",
    "    !jupyter nbconvert --to markdown --TemplateExporter.exclude_output=True readme.ipynb"
   ]
  },
  {
   "cell_type": "code",
   "execution_count": null,
   "metadata": {},
   "outputs": [],
   "source": []
  }
 ],
 "metadata": {
  "kernelspec": {
   "display_name": "p6",
   "language": "python",
   "name": "other-env"
  },
  "language_info": {
   "codemirror_mode": {
    "name": "ipython",
    "version": 3
   },
   "file_extension": ".py",
   "mimetype": "text/x-python",
   "name": "python",
   "nbconvert_exporter": "python",
   "pygments_lexer": "ipython3",
   "version": "3.6.3"
  }
 },
 "nbformat": 4,
 "nbformat_minor": 2
}
