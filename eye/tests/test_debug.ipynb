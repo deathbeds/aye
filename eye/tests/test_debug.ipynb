{
 "cells": [
  {
   "cell_type": "code",
   "execution_count": 1,
   "metadata": {},
   "outputs": [],
   "source": [
    "\"\"\"setup\"\"\"\n",
    "try:\n",
    "    from ..__init__ import activate\n",
    "except:\n",
    "    import eye.activate\n",
    "try:\n",
    "    from . import debug\n",
    "except:\n",
    "    import debug"
   ]
  },
  {
   "cell_type": "code",
   "execution_count": 42,
   "metadata": {},
   "outputs": [],
   "source": [
    "\"\"\"test_basic_failure\"\"\"\n",
    "import traceback\n",
    "from inspect import getsource\n",
    "assert debug.foo is 42\n",
    "assert isinstance(debug.__complete__, AssertionError)\n",
    "lineno = list(traceback.walk_tb(debug.__complete__.__traceback__))[-1][1]\n",
    "source = getsource(debug)\n",
    "debugno = source.count('\\n', 0, source.index('assert False'))\n",
    "debugno += 1\n",
    "assert lineno is debugno"
   ]
  }
 ],
 "metadata": {
  "kernelspec": {
   "display_name": "p6",
   "language": "python",
   "name": "other-env"
  },
  "language_info": {
   "codemirror_mode": {
    "name": "ipython",
    "version": 3
   },
   "file_extension": ".py",
   "mimetype": "text/x-python",
   "name": "python",
   "nbconvert_exporter": "python",
   "pygments_lexer": "ipython3",
   "version": "3.6.3"
  }
 },
 "nbformat": 4,
 "nbformat_minor": 2
}
