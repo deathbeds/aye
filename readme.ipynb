{
 "cells": [
  {
   "cell_type": "markdown",
   "metadata": {},
   "source": [
    "`eye` imports notebooks as Interactive Modules.  With `eye` imports:\n",
    "\n",
    "* Notebooks can be used as python source.\n",
    "* The native `importlib.reload` object reloads `eye` modules.\n",
    "* `eye` provides line level debugging to the source notebook.\n",
    "* `paramterize` notebooks to makes them `callable`."
   ]
  },
  {
   "cell_type": "markdown",
   "metadata": {},
   "source": [
    "## `eye.tests` may be imported"
   ]
  },
  {
   "cell_type": "code",
   "execution_count": 3,
   "metadata": {},
   "outputs": [],
   "source": [
    "    try:                        import eye.tests.basics\n",
    "    except ModuleNotFoundError: import eye.activate\n",
    "    finally:                    import eye.tests.basics"
   ]
  },
  {
   "cell_type": "code",
   "execution_count": 5,
   "metadata": {},
   "outputs": [
    {
     "name": "stdout",
     "output_type": "stream",
     "text": [
      "/Users/tonyfast/anaconda/lib/python3.5/site-packages/setuptools-27.2.0-py3.5.egg/setuptools/dist.py:340: UserWarning: The version specified ('0.0.🖕') is an invalid version, this may not work as expected with newer versions of setuptools, pip, and PyPI. Please see PEP 440 for more details.\r\n",
      "running develop\r\n",
      "running egg_info\r\n",
      "writing pbr to eye.egg-info/pbr.json\r\n",
      "writing top-level names to eye.egg-info/top_level.txt\r\n",
      "writing dependency_links to eye.egg-info/dependency_links.txt\r\n",
      "writing eye.egg-info/PKG-INFO\r\n",
      "reading manifest file 'eye.egg-info/SOURCES.txt'\r\n",
      "reading manifest template 'MANIFEST.in'\r\n",
      "writing manifest file 'eye.egg-info/SOURCES.txt'\r\n",
      "running build_ext\r\n",
      "Creating /Users/tonyfast/anaconda/lib/python3.5/site-packages/eye.egg-link (link to .)\r\n",
      "eye 0.0.- is already the active version in easy-install.pth\r\n",
      "\r\n",
      "Installed /Users/tonyfast/eye\r\n",
      "Processing dependencies for eye===0.0.-\r\n",
      "Finished processing dependencies for eye===0.0.-\r\n",
      "[NbConvertApp] Converting notebook readme.ipynb to markdown\r\n",
      "[NbConvertApp] Writing 1582 bytes to readme.md\r\n"
     ]
    }
   ],
   "source": [
    "if __name__ == '__main__':\n",
    "    !python setup.py develop\n",
    "    !jupyter nbconvert --to markdown readme.ipynb"
   ]
  },
  {
   "cell_type": "code",
   "execution_count": null,
   "metadata": {},
   "outputs": [],
   "source": []
  }
 ],
 "metadata": {
  "kernelspec": {
   "display_name": "p6",
   "language": "python",
   "name": "other-env"
  },
  "language_info": {
   "codemirror_mode": {
    "name": "ipython",
    "version": 3
   },
   "file_extension": ".py",
   "mimetype": "text/x-python",
   "name": "python",
   "nbconvert_exporter": "python",
   "pygments_lexer": "ipython3",
   "version": "3.6.3"
  }
 },
 "nbformat": 4,
 "nbformat_minor": 2
}
