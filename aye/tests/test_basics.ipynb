{
 "cells": [
  {
   "cell_type": "code",
   "execution_count": 1,
   "metadata": {},
   "outputs": [],
   "source": [
    "\"\"\"setup\"\"\"\n",
    "try:\n",
    "    from ..__init__ import activate\n",
    "except:\n",
    "    import aye.activate\n",
    "    from aye import from_file\n",
    "__file__ = globals().get('__file__', 'test_basics.ipynb')\n",
    "\n",
    "from nbformat import v4\n",
    "from pathlib import Path\n",
    "try:\n",
    "    from . import test_basics\n",
    "except:\n",
    "    import test_basics\n",
    "    \n",
    "\"\"\"local_value = 1000\"\"\"    \n",
    "local_value = 42\n",
    "if __name__ == '__main__':\n",
    "    global_value = \"Does not exist on imports.\""
   ]
  },
  {
   "cell_type": "code",
   "execution_count": 2,
   "metadata": {},
   "outputs": [],
   "source": [
    "\"\"\"test_import\"\"\"\n",
    "assert test_basics.__file__.endswith(__file__), \"a notebook source file was not provided.\"\n",
    "assert __import__('__main__') != test_basics, \"the imported module is a different object entirely.\""
   ]
  },
  {
   "cell_type": "code",
   "execution_count": 3,
   "metadata": {},
   "outputs": [],
   "source": [
    "\"\"\"test_reload\"\"\"\n",
    "from importlib import reload\n",
    "assert reload(test_basics) is test_basics, \"aye cannot reload test_basics\""
   ]
  },
  {
   "cell_type": "code",
   "execution_count": 4,
   "metadata": {},
   "outputs": [],
   "source": [
    "\"\"\"test_attributes\"\"\"\n",
    "if __name__ == '__main__':\n",
    "    assert test_basics.local_value is local_value, \"the import probably barfed.\"\n",
    "assert getattr(test_basics, 'global_value', None) is None, \"__name__ is __main__\""
   ]
  },
  {
   "cell_type": "code",
   "execution_count": 5,
   "metadata": {},
   "outputs": [],
   "source": [
    "\"\"\"test_source_format\"\"\"\n",
    "from nbformat import validate, reads\n",
    "from inspect import getsource\n",
    "assert validate(reads(getsource(test_basics), 4)) or True"
   ]
  },
  {
   "cell_type": "code",
   "execution_count": null,
   "metadata": {},
   "outputs": [],
   "source": []
  },
  {
   "cell_type": "code",
   "execution_count": null,
   "metadata": {},
   "outputs": [],
   "source": []
  }
 ],
 "metadata": {
  "kernelspec": {
   "display_name": "p6",
   "language": "python",
   "name": "other-env"
  },
  "language_info": {
   "codemirror_mode": {
    "name": "ipython",
    "version": 3
   },
   "file_extension": ".py",
   "mimetype": "text/x-python",
   "name": "python",
   "nbconvert_exporter": "python",
   "pygments_lexer": "ipython3",
   "version": "3.6.3"
  }
 },
 "nbformat": 4,
 "nbformat_minor": 2
}
