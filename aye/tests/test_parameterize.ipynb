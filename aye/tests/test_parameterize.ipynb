{
 "cells": [
  {
   "cell_type": "code",
   "execution_count": 25,
   "metadata": {},
   "outputs": [],
   "source": [
    "\"\"\"setup\"\"\"\n",
    "try:\n",
    "    from .. import parameterize, activate\n",
    "except:\n",
    "    from aye import parameterize, activate\n",
    "\n",
    "\n",
    "try:\n",
    "    from . import test_basics\n",
    "except:\n",
    "    import test_basics"
   ]
  },
  {
   "cell_type": "code",
   "execution_count": 26,
   "metadata": {},
   "outputs": [],
   "source": [
    "\n",
    "from inspect import signature, Signature, Parameter\n",
    "f = parameterize(test_basics)\n",
    "assert signature(f) == Signature([Parameter('local_value', Parameter.KEYWORD_ONLY, default=1000)])\n",
    "assert f().local_value == 1000\n",
    "assert f(local_value=89).local_value == 89"
   ]
  }
 ],
 "metadata": {
  "kernelspec": {
   "display_name": "p6",
   "language": "python",
   "name": "other-env"
  },
  "language_info": {
   "codemirror_mode": {
    "name": "ipython",
    "version": 3
   },
   "file_extension": ".py",
   "mimetype": "text/x-python",
   "name": "python",
   "nbconvert_exporter": "python",
   "pygments_lexer": "ipython3",
   "version": "3.6.3"
  }
 },
 "nbformat": 4,
 "nbformat_minor": 2
}
