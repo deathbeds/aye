{
 "cells": [
  {
   "cell_type": "markdown",
   "metadata": {},
   "source": [
    "`eye` imports notebooks as Interactive Modules.  With `eye` imports:\n",
    "\n",
    "* Notebooks can be used as python source.\n",
    "* The native `importlib.reload` object reloads `eye` modules.\n",
    "* `eye` provides line level debugging to the source notebook.\n",
    "* `paramterize` notebooks to makes them `callable`."
   ]
  },
  {
   "cell_type": "code",
   "execution_count": 1,
   "metadata": {},
   "outputs": [],
   "source": [
    "    import eye.activate\n",
    "    import readme"
   ]
  },
  {
   "cell_type": "markdown",
   "metadata": {},
   "source": [
    "Imported notebooks are reloadable."
   ]
  },
  {
   "cell_type": "code",
   "execution_count": 9,
   "metadata": {},
   "outputs": [],
   "source": [
    "    from importlib import reload\n",
    "    assert reload(readme) is readme"
   ]
  },
  {
   "cell_type": "markdown",
   "metadata": {},
   "source": [
    "`eye` imports notebooks directly from their json source."
   ]
  },
  {
   "cell_type": "code",
   "execution_count": 10,
   "metadata": {},
   "outputs": [],
   "source": [
    "    from inspect import getsource\n",
    "    assert readme.__file__.endswith('.ipynb')\n",
    "    assert __import__('nbformat').reads(getsource(readme), 4)"
   ]
  },
  {
   "cell_type": "markdown",
   "metadata": {},
   "source": [
    "`eye.tests` are importable."
   ]
  },
  {
   "cell_type": "code",
   "execution_count": 13,
   "metadata": {},
   "outputs": [],
   "source": [
    "    from eye import update_hooks, Notebook\n",
    "    update_hooks()\n",
    "    try:                        import eye.tests.test_basics\n",
    "    except ModuleNotFoundError: update_hooks(Notebook)\n",
    "    finally:                    import eye.tests.test_basics\n",
    "    assert eye.tests.test_basics.__complete__ is True"
   ]
  },
  {
   "cell_type": "code",
   "execution_count": 14,
   "metadata": {},
   "outputs": [
    {
     "name": "stdout",
     "output_type": "stream",
     "text": [
      "\u001b[1m============================= test session starts ==============================\u001b[0m\r\n",
      "platform darwin -- Python 3.6.3, pytest-3.2.1, py-1.4.34, pluggy-0.4.0\r\n",
      "rootdir: /Users/tonyfast/eye, inifile:\r\n",
      "plugins: ipynb-1.1.0, hypothesis-3.44.6\r\n",
      "\u001b[1m\r",
      "collecting 0 items                                                              \u001b[0m\u001b[1m\r",
      "collecting 5 items                                                              \u001b[0m\u001b[1m\r",
      "collecting 8 items                                                              \u001b[0m\u001b[1m\r",
      "collecting 13 items                                                             \u001b[0m\u001b[1m\r",
      "collected 13 items                                                              \u001b[0m\r\n",
      "\r\n",
      "eye/tests/test_basics.ipynb .....\r\n",
      "eye/tests/test_from_file.ipynb ...\r\n",
      "eye/tests/test_ordering.ipynb .....\r\n",
      "\r\n",
      "\u001b[32m\u001b[1m========================== 13 passed in 6.56 seconds ===========================\u001b[0m\r\n",
      "[NbConvertApp] Converting notebook readme.ipynb to markdown\r\n",
      "[NbConvertApp] Writing 1220 bytes to readme.md\r\n"
     ]
    }
   ],
   "source": [
    "if __name__ == '__main__':\n",
    "#     !python setup.py develop\n",
    "    !source activate p6 && py.test\n",
    "    !jupyter nbconvert --to markdown --TemplateExporter.exclude_output=True readme.ipynb"
   ]
  },
  {
   "cell_type": "code",
   "execution_count": null,
   "metadata": {},
   "outputs": [],
   "source": []
  }
 ],
 "metadata": {
  "kernelspec": {
   "display_name": "p6",
   "language": "python",
   "name": "other-env"
  },
  "language_info": {
   "codemirror_mode": {
    "name": "ipython",
    "version": 3
   },
   "file_extension": ".py",
   "mimetype": "text/x-python",
   "name": "python",
   "nbconvert_exporter": "python",
   "pygments_lexer": "ipython3",
   "version": "3.6.3"
  }
 },
 "nbformat": 4,
 "nbformat_minor": 2
}
